{
 "cells": [
  {
   "cell_type": "code",
   "execution_count": 10,
   "id": "c4334248-3ca0-4d7b-8f97-edc23c13e5e4",
   "metadata": {},
   "outputs": [],
   "source": [
    "import h5py"
   ]
  },
  {
   "cell_type": "code",
   "execution_count": null,
   "id": "4a30975f-2b04-478b-bc5f-b056c801f0dd",
   "metadata": {},
   "outputs": [],
   "source": [
    "run = 6\n",
    "\n",
    "file = h5py.File(f\"data/imasdb/aug/32408/{run}/core_profiles.h5\", 'r')"
   ]
  },
  {
   "cell_type": "code",
   "execution_count": 16,
   "id": "18b2b748-a28d-4bbe-85f5-928595eba048",
   "metadata": {},
   "outputs": [
    {
     "name": "stdout",
     "output_type": "stream",
     "text": [
      "['code&commit',\n",
      " 'code&name',\n",
      " 'code&repository',\n",
      " 'code&version',\n",
      " 'global_quantities&energy_diamagnetic',\n",
      " 'global_quantities&ip',\n",
      " 'global_quantities&li_3',\n",
      " 'global_quantities&v_loop',\n",
      " 'ids_properties&creation_date',\n",
      " 'ids_properties&homogeneous_time',\n",
      " 'ids_properties&provider',\n",
      " 'ids_properties&version_put&access_layer',\n",
      " 'ids_properties&version_put&access_layer_language',\n",
      " 'ids_properties&version_put&data_dictionary',\n",
      " 'profiles_1d[]&AOS_SHAPE',\n",
      " 'profiles_1d[]&electrons&density',\n",
      " 'profiles_1d[]&electrons&density_SHAPE',\n",
      " 'profiles_1d[]&electrons&density_thermal',\n",
      " 'profiles_1d[]&electrons&density_thermal_SHAPE',\n",
      " 'profiles_1d[]&electrons&pressure_thermal',\n",
      " 'profiles_1d[]&electrons&pressure_thermal_SHAPE',\n",
      " 'profiles_1d[]&electrons&temperature',\n",
      " 'profiles_1d[]&electrons&temperature_SHAPE',\n",
      " 'profiles_1d[]&grid&rho_pol_norm',\n",
      " 'profiles_1d[]&grid&rho_pol_norm_SHAPE',\n",
      " 'profiles_1d[]&grid&rho_tor',\n",
      " 'profiles_1d[]&grid&rho_tor_SHAPE',\n",
      " 'profiles_1d[]&grid&rho_tor_norm',\n",
      " 'profiles_1d[]&grid&rho_tor_norm_SHAPE',\n",
      " 'profiles_1d[]&ion[]&AOS_SHAPE',\n",
      " 'profiles_1d[]&ion[]&density',\n",
      " 'profiles_1d[]&ion[]&density_SHAPE',\n",
      " 'profiles_1d[]&ion[]&density_thermal',\n",
      " 'profiles_1d[]&ion[]&density_thermal_SHAPE',\n",
      " 'profiles_1d[]&ion[]&element[]&AOS_SHAPE',\n",
      " 'profiles_1d[]&ion[]&element[]&a',\n",
      " 'profiles_1d[]&ion[]&element[]&atoms_n',\n",
      " 'profiles_1d[]&ion[]&element[]&z_n',\n",
      " 'profiles_1d[]&ion[]&label',\n",
      " 'profiles_1d[]&ion[]&multiple_states_flag',\n",
      " 'profiles_1d[]&ion[]&pressure_thermal',\n",
      " 'profiles_1d[]&ion[]&pressure_thermal_SHAPE',\n",
      " 'profiles_1d[]&ion[]&temperature',\n",
      " 'profiles_1d[]&ion[]&temperature_SHAPE',\n",
      " 'profiles_1d[]&ion[]&z_ion',\n",
      " 'profiles_1d[]&q',\n",
      " 'profiles_1d[]&q_SHAPE',\n",
      " 'profiles_1d[]&t_i_average',\n",
      " 'profiles_1d[]&t_i_average_SHAPE',\n",
      " 'profiles_1d[]&zeff',\n",
      " 'profiles_1d[]&zeff_SHAPE',\n",
      " 'time']\n"
     ]
    }
   ],
   "source": [
    "pprint(list(file[\"core_profiles\"].keys()))"
   ]
  },
  {
   "cell_type": "code",
   "execution_count": 17,
   "id": "ff3bbce2-8daa-42ae-978c-9316f558790a",
   "metadata": {},
   "outputs": [],
   "source": [
    "file.close()"
   ]
  },
  {
   "cell_type": "code",
   "execution_count": 18,
   "id": "a2c4b9d9-3e28-435e-8a8f-0f5791a19df3",
   "metadata": {},
   "outputs": [],
   "source": [
    "file = h5py.File(\"data/imas-example-data/master.h5\", 'r')"
   ]
  },
  {
   "cell_type": "code",
   "execution_count": 19,
   "id": "7436a7ce-0831-4910-95da-563d6b77027e",
   "metadata": {},
   "outputs": [
    {
     "data": {
      "text/plain": [
       "<KeysViewHDF5 ['core_profiles', 'equilibrium', 'pulse_schedule', 'summary']>"
      ]
     },
     "execution_count": 19,
     "metadata": {},
     "output_type": "execute_result"
    }
   ],
   "source": [
    "file.keys()"
   ]
  },
  {
   "cell_type": "code",
   "execution_count": 21,
   "id": "8f5248d8-1597-473f-9993-f95f2ca87a0d",
   "metadata": {},
   "outputs": [
    {
     "data": {
      "text/plain": [
       "<KeysViewHDF5 ['code&commit', 'code&name', 'code&repository', 'code&version', 'global_quantities&energy_diamagnetic', 'global_quantities&ip', 'global_quantities&li_3', 'global_quantities&v_loop', 'ids_properties&creation_date', 'ids_properties&homogeneous_time', 'ids_properties&provider', 'ids_properties&version_put&access_layer', 'ids_properties&version_put&access_layer_language', 'ids_properties&version_put&data_dictionary', 'profiles_1d[]&AOS_SHAPE', 'profiles_1d[]&electrons&density', 'profiles_1d[]&electrons&density_SHAPE', 'profiles_1d[]&electrons&density_thermal', 'profiles_1d[]&electrons&density_thermal_SHAPE', 'profiles_1d[]&electrons&pressure_thermal', 'profiles_1d[]&electrons&pressure_thermal_SHAPE', 'profiles_1d[]&electrons&temperature', 'profiles_1d[]&electrons&temperature_SHAPE', 'profiles_1d[]&grid&rho_pol_norm', 'profiles_1d[]&grid&rho_pol_norm_SHAPE', 'profiles_1d[]&grid&rho_tor', 'profiles_1d[]&grid&rho_tor_SHAPE', 'profiles_1d[]&grid&rho_tor_norm', 'profiles_1d[]&grid&rho_tor_norm_SHAPE', 'profiles_1d[]&ion[]&AOS_SHAPE', 'profiles_1d[]&ion[]&density', 'profiles_1d[]&ion[]&density_SHAPE', 'profiles_1d[]&ion[]&density_thermal', 'profiles_1d[]&ion[]&density_thermal_SHAPE', 'profiles_1d[]&ion[]&element[]&AOS_SHAPE', 'profiles_1d[]&ion[]&element[]&a', 'profiles_1d[]&ion[]&element[]&atoms_n', 'profiles_1d[]&ion[]&element[]&z_n', 'profiles_1d[]&ion[]&label', 'profiles_1d[]&ion[]&multiple_states_flag', 'profiles_1d[]&ion[]&pressure_thermal', 'profiles_1d[]&ion[]&pressure_thermal_SHAPE', 'profiles_1d[]&ion[]&temperature', 'profiles_1d[]&ion[]&temperature_SHAPE', 'profiles_1d[]&ion[]&z_ion', 'profiles_1d[]&q', 'profiles_1d[]&q_SHAPE', 'profiles_1d[]&t_i_average', 'profiles_1d[]&t_i_average_SHAPE', 'profiles_1d[]&zeff', 'profiles_1d[]&zeff_SHAPE', 'time']>"
      ]
     },
     "execution_count": 21,
     "metadata": {},
     "output_type": "execute_result"
    }
   ],
   "source": [
    "file[\"core_profiles\"].keys()"
   ]
  },
  {
   "cell_type": "code",
   "execution_count": null,
   "id": "eee30093-ef7c-4869-b64d-57efdca8f9c0",
   "metadata": {},
   "outputs": [],
   "source": []
  }
 ],
 "metadata": {
  "kernelspec": {
   "display_name": ".venv",
   "language": "python",
   "name": "python3"
  },
  "language_info": {
   "codemirror_mode": {
    "name": "ipython",
    "version": 3
   },
   "file_extension": ".py",
   "mimetype": "text/x-python",
   "name": "python",
   "nbconvert_exporter": "python",
   "pygments_lexer": "ipython3",
   "version": "3.12.7"
  }
 },
 "nbformat": 4,
 "nbformat_minor": 5
}
