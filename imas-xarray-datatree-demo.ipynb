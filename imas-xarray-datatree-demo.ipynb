{
 "cells": [
  {
   "cell_type": "code",
   "execution_count": 3,
   "metadata": {},
   "outputs": [],
   "source": [
    "import datatree as xrtree\n",
    "import h5py\n",
    "import xarray as xr"
   ]
  },
  {
   "cell_type": "code",
   "execution_count": 5,
   "metadata": {},
   "outputs": [],
   "source": [
    "file = h5py.File(\"core_profiles.h5\", \"r\")"
   ]
  },
  {
   "cell_type": "code",
   "execution_count": 10,
   "metadata": {},
   "outputs": [
    {
     "data": {
      "text/plain": [
       "<KeysViewHDF5 ['code&commit', 'code&name', 'code&repository', 'code&version', 'global_quantities&energy_diamagnetic', 'global_quantities&ip', 'global_quantities&li_3', 'global_quantities&v_loop', 'ids_properties&creation_date', 'ids_properties&homogeneous_time', 'ids_properties&provider', 'ids_properties&version_put&access_layer', 'ids_properties&version_put&access_layer_language', 'ids_properties&version_put&data_dictionary', 'profiles_1d[]&AOS_SHAPE', 'profiles_1d[]&electrons&density', 'profiles_1d[]&electrons&density_SHAPE', 'profiles_1d[]&electrons&density_thermal', 'profiles_1d[]&electrons&density_thermal_SHAPE', 'profiles_1d[]&electrons&pressure_thermal', 'profiles_1d[]&electrons&pressure_thermal_SHAPE', 'profiles_1d[]&electrons&temperature', 'profiles_1d[]&electrons&temperature_SHAPE', 'profiles_1d[]&grid&rho_pol_norm', 'profiles_1d[]&grid&rho_pol_norm_SHAPE', 'profiles_1d[]&grid&rho_tor', 'profiles_1d[]&grid&rho_tor_SHAPE', 'profiles_1d[]&grid&rho_tor_norm', 'profiles_1d[]&grid&rho_tor_norm_SHAPE', 'profiles_1d[]&ion[]&AOS_SHAPE', 'profiles_1d[]&ion[]&density', 'profiles_1d[]&ion[]&density_SHAPE', 'profiles_1d[]&ion[]&density_thermal', 'profiles_1d[]&ion[]&density_thermal_SHAPE', 'profiles_1d[]&ion[]&element[]&AOS_SHAPE', 'profiles_1d[]&ion[]&element[]&a', 'profiles_1d[]&ion[]&element[]&atoms_n', 'profiles_1d[]&ion[]&element[]&z_n', 'profiles_1d[]&ion[]&label', 'profiles_1d[]&ion[]&multiple_states_flag', 'profiles_1d[]&ion[]&pressure_thermal', 'profiles_1d[]&ion[]&pressure_thermal_SHAPE', 'profiles_1d[]&ion[]&temperature', 'profiles_1d[]&ion[]&temperature_SHAPE', 'profiles_1d[]&ion[]&z_ion', 'profiles_1d[]&q', 'profiles_1d[]&q_SHAPE', 'profiles_1d[]&t_i_average', 'profiles_1d[]&t_i_average_SHAPE', 'profiles_1d[]&zeff', 'profiles_1d[]&zeff_SHAPE', 'time']>"
      ]
     },
     "execution_count": 10,
     "metadata": {},
     "output_type": "execute_result"
    }
   ],
   "source": [
    "file[\"core_profiles\"]"
   ]
  },
  {
   "cell_type": "code",
   "execution_count": null,
   "metadata": {},
   "outputs": [],
   "source": []
  }
 ],
 "metadata": {
  "kernelspec": {
   "display_name": "venv",
   "language": "python",
   "name": "python3"
  },
  "language_info": {
   "codemirror_mode": {
    "name": "ipython",
    "version": 3
   },
   "file_extension": ".py",
   "mimetype": "text/x-python",
   "name": "python",
   "nbconvert_exporter": "python",
   "pygments_lexer": "ipython3",
   "version": "3.12.2"
  }
 },
 "nbformat": 4,
 "nbformat_minor": 2
}
