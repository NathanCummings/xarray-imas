{
 "cells": [
  {
   "cell_type": "code",
   "execution_count": 8,
   "id": "77a1ca14-ac84-4943-a7bb-d30d55ba4c32",
   "metadata": {},
   "outputs": [],
   "source": [
    "import untangle\n",
    "\n",
    "from rich import inspect\n",
    "\n",
    "\n",
    "eq = untangle.parse(\"dd_equilibrium.xsd\")"
   ]
  },
  {
   "cell_type": "code",
   "execution_count": 51,
   "id": "d48b531b-af63-4df2-b0db-5ad005233634",
   "metadata": {},
   "outputs": [
    {
     "data": {
      "text/plain": [
       "Element(name = xs_element, attributes = {'name': 'boundary', 'type': 'equilibrium_boundary'}, cdata = \n",
       "\t\t\t\t\n",
       "\t\t\t)"
      ]
     },
     "execution_count": 51,
     "metadata": {},
     "output_type": "execute_result"
    }
   ],
   "source": [
    "eq.xs_schema.xs_complexType[24].xs_sequence.xs_element[0]"
   ]
  },
  {
   "cell_type": "code",
   "execution_count": null,
   "id": "de02727d-86f8-4231-a505-723f09f56292",
   "metadata": {},
   "outputs": [],
   "source": []
  }
 ],
 "metadata": {
  "kernelspec": {
   "display_name": "Python 3 (ipykernel)",
   "language": "python",
   "name": "python3"
  },
  "language_info": {
   "codemirror_mode": {
    "name": "ipython",
    "version": 3
   },
   "file_extension": ".py",
   "mimetype": "text/x-python",
   "name": "python",
   "nbconvert_exporter": "python",
   "pygments_lexer": "ipython3",
   "version": "3.12.3"
  }
 },
 "nbformat": 4,
 "nbformat_minor": 5
}
