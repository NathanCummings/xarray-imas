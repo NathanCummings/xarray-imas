{
 "cells": [
  {
   "cell_type": "code",
   "execution_count": 2,
   "metadata": {},
   "outputs": [],
   "source": [
    "import json\n",
    "\n",
    "import h5py\n",
    "import virtualizarr as vz\n",
    "\n",
    "from kerchunk.hdf import SingleHdf5ToZarr"
   ]
  },
  {
   "cell_type": "code",
   "execution_count": 4,
   "metadata": {},
   "outputs": [],
   "source": [
    "run = 6\n",
    "ids = \"core_sources\"\n",
    "file_path = f\"data/imasdb/aug/3/32408/{run}/{ids}.h5\""
   ]
  },
  {
   "cell_type": "code",
   "execution_count": 12,
   "metadata": {},
   "outputs": [
    {
     "ename": "NotImplementedError",
     "evalue": "Reading inlined reference data is currently not supported. [ToDo]",
     "output_type": "error",
     "traceback": [
      "\u001b[0;31m---------------------------------------------------------------------------\u001b[0m",
      "\u001b[0;31mNotImplementedError\u001b[0m                       Traceback (most recent call last)",
      "Cell \u001b[0;32mIn[12], line 1\u001b[0m\n\u001b[0;32m----> 1\u001b[0m \u001b[43mvz\u001b[49m\u001b[38;5;241;43m.\u001b[39;49m\u001b[43mopen_virtual_dataset\u001b[49m\u001b[43m(\u001b[49m\u001b[43mfile_path\u001b[49m\u001b[43m,\u001b[49m\u001b[43m \u001b[49m\u001b[43mfiletype\u001b[49m\u001b[38;5;241;43m=\u001b[39;49m\u001b[38;5;124;43m\"\u001b[39;49m\u001b[38;5;124;43mhdf5\u001b[39;49m\u001b[38;5;124;43m\"\u001b[39;49m\u001b[43m,\u001b[49m\u001b[43m \u001b[49m\u001b[43mgroup\u001b[49m\u001b[38;5;241;43m=\u001b[39;49m\u001b[38;5;124;43m\"\u001b[39;49m\u001b[38;5;124;43mcore_sources\u001b[39;49m\u001b[38;5;124;43m\"\u001b[39;49m\u001b[43m)\u001b[49m\n",
      "File \u001b[0;32m~/xarray-imas/.venv/lib/python3.12/site-packages/virtualizarr/backend.py:191\u001b[0m, in \u001b[0;36mopen_virtual_dataset\u001b[0;34m(filepath, filetype, group, drop_variables, loadable_variables, decode_times, cftime_variables, indexes, virtual_array_class, reader_options)\u001b[0m\n\u001b[1;32m    188\u001b[0m \u001b[38;5;28;01mif\u001b[39;00m backend_cls \u001b[38;5;129;01mis\u001b[39;00m \u001b[38;5;28;01mNone\u001b[39;00m:\n\u001b[1;32m    189\u001b[0m     \u001b[38;5;28;01mraise\u001b[39;00m \u001b[38;5;167;01mNotImplementedError\u001b[39;00m(\u001b[38;5;124mf\u001b[39m\u001b[38;5;124m\"\u001b[39m\u001b[38;5;124mUnsupported file type: \u001b[39m\u001b[38;5;132;01m{\u001b[39;00mfiletype\u001b[38;5;241m.\u001b[39mname\u001b[38;5;132;01m}\u001b[39;00m\u001b[38;5;124m\"\u001b[39m)\n\u001b[0;32m--> 191\u001b[0m vds \u001b[38;5;241m=\u001b[39m \u001b[43mbackend_cls\u001b[49m\u001b[38;5;241;43m.\u001b[39;49m\u001b[43mopen_virtual_dataset\u001b[49m\u001b[43m(\u001b[49m\n\u001b[1;32m    192\u001b[0m \u001b[43m    \u001b[49m\u001b[43mfilepath\u001b[49m\u001b[43m,\u001b[49m\n\u001b[1;32m    193\u001b[0m \u001b[43m    \u001b[49m\u001b[43mgroup\u001b[49m\u001b[38;5;241;43m=\u001b[39;49m\u001b[43mgroup\u001b[49m\u001b[43m,\u001b[49m\n\u001b[1;32m    194\u001b[0m \u001b[43m    \u001b[49m\u001b[43mdrop_variables\u001b[49m\u001b[38;5;241;43m=\u001b[39;49m\u001b[43mdrop_variables\u001b[49m\u001b[43m,\u001b[49m\n\u001b[1;32m    195\u001b[0m \u001b[43m    \u001b[49m\u001b[43mloadable_variables\u001b[49m\u001b[38;5;241;43m=\u001b[39;49m\u001b[43mloadable_variables\u001b[49m\u001b[43m,\u001b[49m\n\u001b[1;32m    196\u001b[0m \u001b[43m    \u001b[49m\u001b[43mdecode_times\u001b[49m\u001b[38;5;241;43m=\u001b[39;49m\u001b[43mdecode_times\u001b[49m\u001b[43m,\u001b[49m\n\u001b[1;32m    197\u001b[0m \u001b[43m    \u001b[49m\u001b[43mindexes\u001b[49m\u001b[38;5;241;43m=\u001b[39;49m\u001b[43mindexes\u001b[49m\u001b[43m,\u001b[49m\n\u001b[1;32m    198\u001b[0m \u001b[43m    \u001b[49m\u001b[43mreader_options\u001b[49m\u001b[38;5;241;43m=\u001b[39;49m\u001b[43mreader_options\u001b[49m\u001b[43m,\u001b[49m\n\u001b[1;32m    199\u001b[0m \u001b[43m\u001b[49m\u001b[43m)\u001b[49m\n\u001b[1;32m    201\u001b[0m \u001b[38;5;28;01mreturn\u001b[39;00m vds\n",
      "File \u001b[0;32m~/xarray-imas/.venv/lib/python3.12/site-packages/virtualizarr/readers/hdf5.py:42\u001b[0m, in \u001b[0;36mHDF5VirtualBackend.open_virtual_dataset\u001b[0;34m(filepath, group, drop_variables, loadable_variables, decode_times, indexes, reader_options)\u001b[0m\n\u001b[1;32m     36\u001b[0m refs \u001b[38;5;241m=\u001b[39m SingleHdf5ToZarr(\n\u001b[1;32m     37\u001b[0m     filepath, inline_threshold\u001b[38;5;241m=\u001b[39m\u001b[38;5;241m0\u001b[39m, \u001b[38;5;241m*\u001b[39m\u001b[38;5;241m*\u001b[39mreader_options\n\u001b[1;32m     38\u001b[0m )\u001b[38;5;241m.\u001b[39mtranslate()\n\u001b[1;32m     40\u001b[0m refs \u001b[38;5;241m=\u001b[39m extract_group(refs, group)\n\u001b[0;32m---> 42\u001b[0m virtual_vars, attrs, coord_names \u001b[38;5;241m=\u001b[39m \u001b[43mvirtual_vars_and_metadata_from_kerchunk_refs\u001b[49m\u001b[43m(\u001b[49m\n\u001b[1;32m     43\u001b[0m \u001b[43m    \u001b[49m\u001b[43mrefs\u001b[49m\u001b[43m,\u001b[49m\n\u001b[1;32m     44\u001b[0m \u001b[43m    \u001b[49m\u001b[43mloadable_variables\u001b[49m\u001b[43m,\u001b[49m\n\u001b[1;32m     45\u001b[0m \u001b[43m    \u001b[49m\u001b[43mdrop_variables\u001b[49m\u001b[43m,\u001b[49m\n\u001b[1;32m     46\u001b[0m \u001b[43m\u001b[49m\u001b[43m)\u001b[49m\n\u001b[1;32m     48\u001b[0m loadable_vars, indexes \u001b[38;5;241m=\u001b[39m open_loadable_vars_and_indexes(\n\u001b[1;32m     49\u001b[0m     filepath,\n\u001b[1;32m     50\u001b[0m     loadable_variables\u001b[38;5;241m=\u001b[39mloadable_variables,\n\u001b[0;32m   (...)\u001b[0m\n\u001b[1;32m     55\u001b[0m     decode_times\u001b[38;5;241m=\u001b[39mdecode_times,\n\u001b[1;32m     56\u001b[0m )\n\u001b[1;32m     58\u001b[0m \u001b[38;5;28;01mreturn\u001b[39;00m construct_virtual_dataset(\n\u001b[1;32m     59\u001b[0m     virtual_vars\u001b[38;5;241m=\u001b[39mvirtual_vars,\n\u001b[1;32m     60\u001b[0m     loadable_vars\u001b[38;5;241m=\u001b[39mloadable_vars,\n\u001b[0;32m   (...)\u001b[0m\n\u001b[1;32m     63\u001b[0m     attrs\u001b[38;5;241m=\u001b[39mattrs,\n\u001b[1;32m     64\u001b[0m )\n",
      "File \u001b[0;32m~/xarray-imas/.venv/lib/python3.12/site-packages/virtualizarr/translators/kerchunk.py:26\u001b[0m, in \u001b[0;36mvirtual_vars_and_metadata_from_kerchunk_refs\u001b[0;34m(vds_refs, loadable_variables, drop_variables, virtual_array_class)\u001b[0m\n\u001b[1;32m     16\u001b[0m \u001b[38;5;28;01mdef\u001b[39;00m \u001b[38;5;21mvirtual_vars_and_metadata_from_kerchunk_refs\u001b[39m(\n\u001b[1;32m     17\u001b[0m     vds_refs: KerchunkStoreRefs,\n\u001b[1;32m     18\u001b[0m     loadable_variables,\n\u001b[1;32m     19\u001b[0m     drop_variables,\n\u001b[1;32m     20\u001b[0m     virtual_array_class\u001b[38;5;241m=\u001b[39mManifestArray,\n\u001b[1;32m     21\u001b[0m ) \u001b[38;5;241m-\u001b[39m\u001b[38;5;241m>\u001b[39m \u001b[38;5;28mtuple\u001b[39m[Mapping[\u001b[38;5;28mstr\u001b[39m, Variable], \u001b[38;5;28mdict\u001b[39m[\u001b[38;5;28mstr\u001b[39m, Any], \u001b[38;5;28mlist\u001b[39m[\u001b[38;5;28mstr\u001b[39m]]:\n\u001b[1;32m     22\u001b[0m \u001b[38;5;250m    \u001b[39m\u001b[38;5;124;03m\"\"\"\u001b[39;00m\n\u001b[1;32m     23\u001b[0m \u001b[38;5;124;03m    Parses all useful information from a set kerchunk references (for a single group).\u001b[39;00m\n\u001b[1;32m     24\u001b[0m \u001b[38;5;124;03m    \"\"\"\u001b[39;00m\n\u001b[0;32m---> 26\u001b[0m     virtual_vars \u001b[38;5;241m=\u001b[39m \u001b[43mvirtual_vars_from_kerchunk_refs\u001b[49m\u001b[43m(\u001b[49m\n\u001b[1;32m     27\u001b[0m \u001b[43m        \u001b[49m\u001b[43mvds_refs\u001b[49m\u001b[43m,\u001b[49m\n\u001b[1;32m     28\u001b[0m \u001b[43m        \u001b[49m\u001b[43mdrop_variables\u001b[49m\u001b[38;5;241;43m=\u001b[39;49m\u001b[43mdrop_variables\u001b[49m\u001b[43m \u001b[49m\u001b[38;5;241;43m+\u001b[39;49m\u001b[43m \u001b[49m\u001b[43mloadable_variables\u001b[49m\u001b[43m,\u001b[49m\n\u001b[1;32m     29\u001b[0m \u001b[43m        \u001b[49m\u001b[43mvirtual_array_class\u001b[49m\u001b[38;5;241;43m=\u001b[39;49m\u001b[43mvirtual_array_class\u001b[49m\u001b[43m,\u001b[49m\n\u001b[1;32m     30\u001b[0m \u001b[43m    \u001b[49m\u001b[43m)\u001b[49m\n\u001b[1;32m     31\u001b[0m     ds_attrs \u001b[38;5;241m=\u001b[39m fully_decode_arr_refs(vds_refs[\u001b[38;5;124m\"\u001b[39m\u001b[38;5;124mrefs\u001b[39m\u001b[38;5;124m\"\u001b[39m])\u001b[38;5;241m.\u001b[39mget(\u001b[38;5;124m\"\u001b[39m\u001b[38;5;124m.zattrs\u001b[39m\u001b[38;5;124m\"\u001b[39m, {})\n\u001b[1;32m     32\u001b[0m     coord_names \u001b[38;5;241m=\u001b[39m ds_attrs\u001b[38;5;241m.\u001b[39mpop(\u001b[38;5;124m\"\u001b[39m\u001b[38;5;124mcoordinates\u001b[39m\u001b[38;5;124m\"\u001b[39m, [])\n",
      "File \u001b[0;32m~/xarray-imas/.venv/lib/python3.12/site-packages/virtualizarr/translators/kerchunk.py:100\u001b[0m, in \u001b[0;36mvirtual_vars_from_kerchunk_refs\u001b[0;34m(refs, drop_variables, virtual_array_class)\u001b[0m\n\u001b[1;32m     94\u001b[0m     drop_variables \u001b[38;5;241m=\u001b[39m []\n\u001b[1;32m     95\u001b[0m var_names_to_keep \u001b[38;5;241m=\u001b[39m [\n\u001b[1;32m     96\u001b[0m     var_name \u001b[38;5;28;01mfor\u001b[39;00m var_name \u001b[38;5;129;01min\u001b[39;00m var_names \u001b[38;5;28;01mif\u001b[39;00m var_name \u001b[38;5;129;01mnot\u001b[39;00m \u001b[38;5;129;01min\u001b[39;00m drop_variables\n\u001b[1;32m     97\u001b[0m ]\n\u001b[1;32m     99\u001b[0m \u001b[38;5;28mvars\u001b[39m \u001b[38;5;241m=\u001b[39m {\n\u001b[0;32m--> 100\u001b[0m     var_name: \u001b[43mvariable_from_kerchunk_refs\u001b[49m\u001b[43m(\u001b[49m\u001b[43mrefs\u001b[49m\u001b[43m,\u001b[49m\u001b[43m \u001b[49m\u001b[43mvar_name\u001b[49m\u001b[43m,\u001b[49m\u001b[43m \u001b[49m\u001b[43mvirtual_array_class\u001b[49m\u001b[43m)\u001b[49m\n\u001b[1;32m    101\u001b[0m     \u001b[38;5;28;01mfor\u001b[39;00m var_name \u001b[38;5;129;01min\u001b[39;00m var_names_to_keep\n\u001b[1;32m    102\u001b[0m }\n\u001b[1;32m    103\u001b[0m \u001b[38;5;28;01mreturn\u001b[39;00m \u001b[38;5;28mvars\u001b[39m\n",
      "File \u001b[0;32m~/xarray-imas/.venv/lib/python3.12/site-packages/virtualizarr/translators/kerchunk.py:150\u001b[0m, in \u001b[0;36mvariable_from_kerchunk_refs\u001b[0;34m(refs, var_name, virtual_array_class)\u001b[0m\n\u001b[1;32m    148\u001b[0m dims \u001b[38;5;241m=\u001b[39m zattrs\u001b[38;5;241m.\u001b[39mpop(\u001b[38;5;124m\"\u001b[39m\u001b[38;5;124m_ARRAY_DIMENSIONS\u001b[39m\u001b[38;5;124m\"\u001b[39m)\n\u001b[1;32m    149\u001b[0m \u001b[38;5;28;01mif\u001b[39;00m chunk_dict:\n\u001b[0;32m--> 150\u001b[0m     manifest \u001b[38;5;241m=\u001b[39m \u001b[43mChunkManifest\u001b[49m\u001b[38;5;241;43m.\u001b[39;49m\u001b[43m_from_kerchunk_chunk_dict\u001b[49m\u001b[43m(\u001b[49m\u001b[43mchunk_dict\u001b[49m\u001b[43m)\u001b[49m\n\u001b[1;32m    151\u001b[0m     varr \u001b[38;5;241m=\u001b[39m virtual_array_class(zarray\u001b[38;5;241m=\u001b[39mzarray, chunkmanifest\u001b[38;5;241m=\u001b[39mmanifest)\n\u001b[1;32m    152\u001b[0m \u001b[38;5;28;01melif\u001b[39;00m \u001b[38;5;28mlen\u001b[39m(zarray\u001b[38;5;241m.\u001b[39mshape) \u001b[38;5;241m!=\u001b[39m \u001b[38;5;241m0\u001b[39m:\n\u001b[1;32m    153\u001b[0m     \u001b[38;5;66;03m# empty variables don't have physical chunks, but zarray shows that the variable\u001b[39;00m\n\u001b[1;32m    154\u001b[0m     \u001b[38;5;66;03m# is at least 1D\u001b[39;00m\n",
      "File \u001b[0;32m~/xarray-imas/.venv/lib/python3.12/site-packages/virtualizarr/manifests/manifest.py:314\u001b[0m, in \u001b[0;36mChunkManifest._from_kerchunk_chunk_dict\u001b[0;34m(cls, kerchunk_chunk_dict)\u001b[0m\n\u001b[1;32m    312\u001b[0m \u001b[38;5;28;01mfor\u001b[39;00m k, v \u001b[38;5;129;01min\u001b[39;00m kerchunk_chunk_dict\u001b[38;5;241m.\u001b[39mitems():\n\u001b[1;32m    313\u001b[0m     \u001b[38;5;28;01mif\u001b[39;00m \u001b[38;5;28misinstance\u001b[39m(v, (\u001b[38;5;28mstr\u001b[39m, \u001b[38;5;28mbytes\u001b[39m)):\n\u001b[0;32m--> 314\u001b[0m         \u001b[38;5;28;01mraise\u001b[39;00m \u001b[38;5;167;01mNotImplementedError\u001b[39;00m(\n\u001b[1;32m    315\u001b[0m             \u001b[38;5;124m\"\u001b[39m\u001b[38;5;124mReading inlined reference data is currently not supported. [ToDo]\u001b[39m\u001b[38;5;124m\"\u001b[39m\n\u001b[1;32m    316\u001b[0m         )\n\u001b[1;32m    317\u001b[0m     \u001b[38;5;28;01melif\u001b[39;00m \u001b[38;5;129;01mnot\u001b[39;00m \u001b[38;5;28misinstance\u001b[39m(v, (\u001b[38;5;28mtuple\u001b[39m, \u001b[38;5;28mlist\u001b[39m)):\n\u001b[1;32m    318\u001b[0m         \u001b[38;5;28;01mraise\u001b[39;00m \u001b[38;5;167;01mTypeError\u001b[39;00m(\u001b[38;5;124mf\u001b[39m\u001b[38;5;124m\"\u001b[39m\u001b[38;5;124mUnexpected type \u001b[39m\u001b[38;5;132;01m{\u001b[39;00m\u001b[38;5;28mtype\u001b[39m(v)\u001b[38;5;132;01m}\u001b[39;00m\u001b[38;5;124m for chunk value: \u001b[39m\u001b[38;5;132;01m{\u001b[39;00mv\u001b[38;5;132;01m}\u001b[39;00m\u001b[38;5;124m\"\u001b[39m)\n",
      "\u001b[0;31mNotImplementedError\u001b[0m: Reading inlined reference data is currently not supported. [ToDo]"
     ]
    }
   ],
   "source": [
    "vz.open_virtual_dataset(file_path, filetype=\"hdf5\", group=\"core_sources\")"
   ]
  },
  {
   "cell_type": "code",
   "execution_count": 5,
   "metadata": {},
   "outputs": [],
   "source": [
    "file = h5py.File(file_path, 'r')\n",
    "chunks = SingleHdf5ToZarr(file, file_path)\n",
    "manifest_dict = chunks.translate()\n",
    "\n",
    "with open(\"core_sources_manifest.json\", 'w') as file:\n",
    "    json.dump(manifest_dict, file)"
   ]
  },
  {
   "cell_type": "code",
   "execution_count": null,
   "metadata": {},
   "outputs": [],
   "source": []
  }
 ],
 "metadata": {
  "kernelspec": {
   "display_name": ".venv",
   "language": "python",
   "name": "python3"
  },
  "language_info": {
   "codemirror_mode": {
    "name": "ipython",
    "version": 3
   },
   "file_extension": ".py",
   "mimetype": "text/x-python",
   "name": "python",
   "nbconvert_exporter": "python",
   "pygments_lexer": "ipython3",
   "version": "3.12.7"
  }
 },
 "nbformat": 4,
 "nbformat_minor": 2
}
