{
 "cells": [
  {
   "cell_type": "code",
   "execution_count": 1,
   "metadata": {},
   "outputs": [],
   "source": [
    "import virtualizarr as vz"
   ]
  },
  {
   "cell_type": "code",
   "execution_count": null,
   "metadata": {},
   "outputs": [
    {
     "ename": "NotImplementedError",
     "evalue": "Unrecognised file based on header bytes: b'shot=324'",
     "output_type": "error",
     "traceback": [
      "\u001b[0;31m---------------------------------------------------------------------------\u001b[0m",
      "\u001b[0;31mNotImplementedError\u001b[0m                       Traceback (most recent call last)",
      "Cell \u001b[0;32mIn[2], line 2\u001b[0m\n\u001b[1;32m      1\u001b[0m run \u001b[38;5;241m=\u001b[39m \u001b[38;5;241m6\u001b[39m\n\u001b[0;32m----> 2\u001b[0m \u001b[43mvz\u001b[49m\u001b[38;5;241;43m.\u001b[39;49m\u001b[43mopen_virtual_dataset\u001b[49m\u001b[43m(\u001b[49m\u001b[38;5;124;43mf\u001b[39;49m\u001b[38;5;124;43m\"\u001b[39;49m\u001b[38;5;124;43mimasdb/aug/3/32408/\u001b[39;49m\u001b[38;5;132;43;01m{\u001b[39;49;00m\u001b[43mrun\u001b[49m\u001b[38;5;132;43;01m}\u001b[39;49;00m\u001b[38;5;124;43m/core_sources.h5\u001b[39;49m\u001b[38;5;124;43m\"\u001b[39;49m\u001b[43m)\u001b[49m\n",
      "File \u001b[0;32m~/xarray-imas/.venv/lib/python3.12/site-packages/virtualizarr/backend.py:182\u001b[0m, in \u001b[0;36mopen_virtual_dataset\u001b[0;34m(filepath, filetype, group, drop_variables, loadable_variables, decode_times, cftime_variables, indexes, virtual_array_class, reader_options)\u001b[0m\n\u001b[1;32m    180\u001b[0m     filetype \u001b[38;5;241m=\u001b[39m FileType(filetype)\n\u001b[1;32m    181\u001b[0m \u001b[38;5;28;01melse\u001b[39;00m:\n\u001b[0;32m--> 182\u001b[0m     filetype \u001b[38;5;241m=\u001b[39m \u001b[43mautomatically_determine_filetype\u001b[49m\u001b[43m(\u001b[49m\n\u001b[1;32m    183\u001b[0m \u001b[43m        \u001b[49m\u001b[43mfilepath\u001b[49m\u001b[38;5;241;43m=\u001b[39;49m\u001b[43mfilepath\u001b[49m\u001b[43m,\u001b[49m\u001b[43m \u001b[49m\u001b[43mreader_options\u001b[49m\u001b[38;5;241;43m=\u001b[39;49m\u001b[43mreader_options\u001b[49m\n\u001b[1;32m    184\u001b[0m \u001b[43m    \u001b[49m\u001b[43m)\u001b[49m\n\u001b[1;32m    186\u001b[0m backend_cls \u001b[38;5;241m=\u001b[39m VIRTUAL_BACKENDS\u001b[38;5;241m.\u001b[39mget(filetype\u001b[38;5;241m.\u001b[39mname\u001b[38;5;241m.\u001b[39mlower())\n\u001b[1;32m    188\u001b[0m \u001b[38;5;28;01mif\u001b[39;00m backend_cls \u001b[38;5;129;01mis\u001b[39;00m \u001b[38;5;28;01mNone\u001b[39;00m:\n",
      "File \u001b[0;32m~/xarray-imas/.venv/lib/python3.12/site-packages/virtualizarr/backend.py:98\u001b[0m, in \u001b[0;36mautomatically_determine_filetype\u001b[0;34m(filepath, reader_options)\u001b[0m\n\u001b[1;32m     96\u001b[0m     filetype \u001b[38;5;241m=\u001b[39m FileType\u001b[38;5;241m.\u001b[39mfits\n\u001b[1;32m     97\u001b[0m \u001b[38;5;28;01melse\u001b[39;00m:\n\u001b[0;32m---> 98\u001b[0m     \u001b[38;5;28;01mraise\u001b[39;00m \u001b[38;5;167;01mNotImplementedError\u001b[39;00m(\n\u001b[1;32m     99\u001b[0m         \u001b[38;5;124mf\u001b[39m\u001b[38;5;124m\"\u001b[39m\u001b[38;5;124mUnrecognised file based on header bytes: \u001b[39m\u001b[38;5;132;01m{\u001b[39;00mmagic_bytes\u001b[38;5;132;01m}\u001b[39;00m\u001b[38;5;124m\"\u001b[39m\n\u001b[1;32m    100\u001b[0m     )\n\u001b[1;32m    102\u001b[0m \u001b[38;5;28;01mreturn\u001b[39;00m filetype\n",
      "\u001b[0;31mNotImplementedError\u001b[0m: Unrecognised file based on header bytes: b'shot=324'"
     ]
    }
   ],
   "source": [
    "run = 6\n",
    "vz.open_virtual_dataset(f\"data/imasdb/aug/3/32408/{run}/core_sources.h5\")"
   ]
  },
  {
   "cell_type": "code",
   "execution_count": null,
   "metadata": {},
   "outputs": [],
   "source": []
  }
 ],
 "metadata": {
  "kernelspec": {
   "display_name": ".venv",
   "language": "python",
   "name": "python3"
  },
  "language_info": {
   "codemirror_mode": {
    "name": "ipython",
    "version": 3
   },
   "file_extension": ".py",
   "mimetype": "text/x-python",
   "name": "python",
   "nbconvert_exporter": "python",
   "pygments_lexer": "ipython3",
   "version": "3.12.7"
  }
 },
 "nbformat": 4,
 "nbformat_minor": 2
}
